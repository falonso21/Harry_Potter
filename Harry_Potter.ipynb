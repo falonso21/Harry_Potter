{
 "cells": [
  {
   "cell_type": "markdown",
   "metadata": {},
   "source": [
    "## Francisco Alonso Fernández. \n",
    "### Máster en Data Science y Big Data. Afi Escuela de Finanzas."
   ]
  },
  {
   "cell_type": "code",
   "execution_count": 1,
   "metadata": {},
   "outputs": [],
   "source": [
    "from IPython.display import HTML"
   ]
  },
  {
   "cell_type": "code",
   "execution_count": 2,
   "metadata": {},
   "outputs": [
    {
     "data": {
      "text/html": [
       "<script>\n",
       "code_show=true; \n",
       "function code_toggle() {\n",
       " if (code_show){\n",
       " $('div.input').hide();\n",
       " } else {\n",
       " $('div.input').show();\n",
       " }\n",
       " code_show = !code_show\n",
       "} \n",
       "$( document ).ready(code_toggle);\n",
       "</script>\n",
       "El código de este notebook está oculto por defecto, para una lectura más fácil.\n",
       "Para mostrarlo/ocultarlo haz click <a href=\"javascript:code_toggle()\">aquí</a>."
      ],
      "text/plain": [
       "<IPython.core.display.HTML object>"
      ]
     },
     "execution_count": 2,
     "metadata": {},
     "output_type": "execute_result"
    }
   ],
   "source": [
    "HTML('''<script>\n",
    "code_show=true; \n",
    "function code_toggle() {\n",
    " if (code_show){\n",
    " $('div.input').hide();\n",
    " } else {\n",
    " $('div.input').show();\n",
    " }\n",
    " code_show = !code_show\n",
    "} \n",
    "$( document ).ready(code_toggle);\n",
    "</script>\n",
    "El código de este notebook está oculto por defecto para una lectura más fácil.\n",
    "Para mostrarlo/ocultarlo haz click <a href=\"javascript:code_toggle()\">aquí</a>.''')\n",
    "HTML('''<script>\n",
    "code_show=true; \n",
    "function code_toggle() {\n",
    " if (code_show){\n",
    " $('div.input').hide();\n",
    " } else {\n",
    " $('div.input').show();\n",
    " }\n",
    " code_show = !code_show\n",
    "} \n",
    "$( document ).ready(code_toggle);\n",
    "</script>\n",
    "El código de este notebook está oculto por defecto, para una lectura más fácil.\n",
    "Para mostrarlo/ocultarlo haz click <a href=\"javascript:code_toggle()\">aquí</a>.''')"
   ]
  },
  {
   "cell_type": "code",
   "execution_count": 3,
   "metadata": {},
   "outputs": [],
   "source": [
    "import re\n",
    "import nltk\n",
    "import nltk.data\n",
    "\n",
    "#nltk.download('wordnet')\n",
    "#nltk.download('omw')\n",
    "#nltk.download('omw')\n",
    "#nltk.download('averaged_perceptron_tagger')\n",
    "\n",
    "from nltk.corpus import wordnet\n",
    "from nltk import word_tokenize\n",
    "from nltk.draw import dispersion_plot\n",
    "from nltk import pos_tag\n",
    "\n",
    "import spicy\n",
    "\n",
    "import numpy as np\n",
    "import pandas as pd\n",
    "import matplotlib as plt"
   ]
  },
  {
   "cell_type": "code",
   "execution_count": 4,
   "metadata": {},
   "outputs": [],
   "source": [
    "def potter_analysis(book_number):\n",
    "    \n",
    "    tokenizer = nltk.data.load('tokenizers/punkt/english.pickle')\n",
    "    book = 'Book'+str(book_number)+'.txt'\n",
    "    \n",
    "    #Leemos el fichero en una cadena\n",
    "    with open(book, 'r',encoding=\"utf8\") as file:\n",
    "        harry_potter = file.read().replace('\\n', ' ')\n",
    "    \n",
    "    #Contamos el número de caracteres leídos\n",
    "    aux1 = len(harry_potter)\n",
    "        \n",
    "    #Contamos el número de frases\n",
    "    aux2 = len(tokenizer.tokenize(harry_potter))\n",
    "        \n",
    "    #Contamos el número de palabras\n",
    "    aux3 = len(word_tokenize(harry_potter))\n",
    "        \n",
    "    #Calculamos la media de palabras por frase en el texto\n",
    "    media = []\n",
    "\n",
    "    for sentence in tokenizer.tokenize(harry_potter):\n",
    "        media.append(len(word_tokenize(sentence)))\n",
    "            \n",
    "    aux4 = np.array(media).mean()\n",
    "        \n",
    "    #Motamos un DataFrame con toda esta información\n",
    "    df_aux = pd.DataFrame([[aux2,aux3,aux4,aux1]], columns=['Número de frases en el libro','Número de palabras en el libro','Número medio de palabras por frase','Número de caracteres en el libro'])\n",
    "        \n",
    "        \n",
    "    #Vamos a crear un data frame contando los tipos diferentes de palabras en el libro (verbos, adjetivos...)\n",
    "    aux = [x[1] for x in pos_tag(word_tokenize(harry_potter))]\n",
    "    my_list = []\n",
    "        \n",
    "    ##Contamos cada elemento único\n",
    "    for x in pd.unique(aux): \n",
    "        my_list.append((x,aux.count(x)))\n",
    "            \n",
    "    df_aux2 = pd.DataFrame(my_list, columns =['Tipo de palabra','Total']) \n",
    "    df_aux2 = df_aux2.set_index('Tipo de palabra').sort_values('Total',ascending=False).T\n",
    "    \n",
    "    \n",
    "    #Convertimos a un dato apropiado para hacer el diagrama \n",
    "    harry_potter_text = nltk.Text(word_tokenize(harry_potter))\n",
    "    \n",
    "    return(df_aux,df_aux2,harry_potter_text)"
   ]
  },
  {
   "cell_type": "code",
   "execution_count": 5,
   "metadata": {},
   "outputs": [],
   "source": [
    "protagonistas = ['Harry','Ron','Hermione']\n",
    "secundarios1 = ['Dumbledore','Voldemort','Snape','Hagrid','Quirrell','McGonagall','Draco','Neville']\n",
    "secundarios2 = ['Dumbledore','Voldemort','Snape','Hagrid','Lockhart','McGonagall','Draco','Neville','Ginny','basilisk','Dobby']\n",
    "secundarios3 = ['Dumbledore','Voldemort', 'Sirius','Pettigrew','Snape','Hagrid','Lupin','McGonagall','Draco','Neville']\n",
    "secundarios4 = ['Dumbledore','Voldemort', 'Diggory','Krum','Delacour','Snape','Moody','Crouch','Draco','Neville']\n",
    "secundarios5 = ['Dumbledore','Voldemort', 'Sirius','Bellatrix','Umbridge','Snape','Fudge','Draco','Neville','Luna']\n",
    "secundarios6 = ['Dumbledore','Voldemort', 'Snape','Slughorn','McGonagall','Draco','Neville','Luna']\n",
    "secundarios7 = ['Dumbledore','Voldemort','Snape','Neville','McGonagall','Draco','Bellatrix','Hagrid','Neville','Ginny']"
   ]
  },
  {
   "cell_type": "code",
   "execution_count": 6,
   "metadata": {},
   "outputs": [],
   "source": [
    "info1_1,info1_2,harry_potter_text1 = potter_analysis(1)\n",
    "info2_1,info2_2,harry_potter_text2 = potter_analysis(2)\n",
    "info3_1,info3_2,harry_potter_text3 = potter_analysis(3)\n",
    "info4_1,info4_2,harry_potter_text4 = potter_analysis(4)\n",
    "info5_1,info5_2,harry_potter_text5 = potter_analysis(5)\n",
    "info6_1,info6_2,harry_potter_text6 = potter_analysis(6)\n",
    "info7_1,info7_2,harry_potter_text7 = potter_analysis(7)"
   ]
  },
  {
   "cell_type": "code",
   "execution_count": 7,
   "metadata": {},
   "outputs": [],
   "source": [
    "hp_info = pd.concat([info1_1,info2_1,info3_1,info4_1,info5_1,info6_1,info7_1])\n",
    "hp_info['Libro']=['Piedra filosofal','Cámara secreta','Prisionero de Azkaban','Cáliz de fuego','Orden del fénix','Príncipe mestizo','Reliquias de la muerte']\n",
    "hp_info.set_index('Libro',inplace=True)"
   ]
  },
  {
   "cell_type": "markdown",
   "metadata": {},
   "source": [
    "## Análisis de la saga Harry Potter."
   ]
  },
  {
   "cell_type": "code",
   "execution_count": 8,
   "metadata": {},
   "outputs": [
    {
     "data": {
      "text/html": [
       "<div>\n",
       "<style scoped>\n",
       "    .dataframe tbody tr th:only-of-type {\n",
       "        vertical-align: middle;\n",
       "    }\n",
       "\n",
       "    .dataframe tbody tr th {\n",
       "        vertical-align: top;\n",
       "    }\n",
       "\n",
       "    .dataframe thead th {\n",
       "        text-align: right;\n",
       "    }\n",
       "</style>\n",
       "<table border=\"1\" class=\"dataframe\">\n",
       "  <thead>\n",
       "    <tr style=\"text-align: right;\">\n",
       "      <th></th>\n",
       "      <th>Número de frases en el libro</th>\n",
       "      <th>Número de palabras en el libro</th>\n",
       "      <th>Número medio de palabras por frase</th>\n",
       "      <th>Número de caracteres en el libro</th>\n",
       "    </tr>\n",
       "    <tr>\n",
       "      <th>Libro</th>\n",
       "      <th></th>\n",
       "      <th></th>\n",
       "      <th></th>\n",
       "      <th></th>\n",
       "    </tr>\n",
       "  </thead>\n",
       "  <tbody>\n",
       "    <tr>\n",
       "      <td>Piedra filosofal</td>\n",
       "      <td>5066</td>\n",
       "      <td>105380</td>\n",
       "      <td>20.801421</td>\n",
       "      <td>474429</td>\n",
       "    </tr>\n",
       "    <tr>\n",
       "      <td>Cámara secreta</td>\n",
       "      <td>5448</td>\n",
       "      <td>116469</td>\n",
       "      <td>21.378304</td>\n",
       "      <td>531708</td>\n",
       "    </tr>\n",
       "    <tr>\n",
       "      <td>Prisionero de Azkaban</td>\n",
       "      <td>7440</td>\n",
       "      <td>148622</td>\n",
       "      <td>19.976075</td>\n",
       "      <td>676978</td>\n",
       "    </tr>\n",
       "    <tr>\n",
       "      <td>Cáliz de fuego</td>\n",
       "      <td>12133</td>\n",
       "      <td>258030</td>\n",
       "      <td>21.266793</td>\n",
       "      <td>1187250</td>\n",
       "    </tr>\n",
       "    <tr>\n",
       "      <td>Orden del fénix</td>\n",
       "      <td>13228</td>\n",
       "      <td>346982</td>\n",
       "      <td>26.230950</td>\n",
       "      <td>1608763</td>\n",
       "    </tr>\n",
       "    <tr>\n",
       "      <td>Príncipe mestizo</td>\n",
       "      <td>9304</td>\n",
       "      <td>229682</td>\n",
       "      <td>24.686694</td>\n",
       "      <td>1059022</td>\n",
       "    </tr>\n",
       "    <tr>\n",
       "      <td>Reliquias de la muerte</td>\n",
       "      <td>11301</td>\n",
       "      <td>265834</td>\n",
       "      <td>23.523051</td>\n",
       "      <td>1227024</td>\n",
       "    </tr>\n",
       "  </tbody>\n",
       "</table>\n",
       "</div>"
      ],
      "text/plain": [
       "                        Número de frases en el libro  \\\n",
       "Libro                                                  \n",
       "Piedra filosofal                                5066   \n",
       "Cámara secreta                                  5448   \n",
       "Prisionero de Azkaban                           7440   \n",
       "Cáliz de fuego                                 12133   \n",
       "Orden del fénix                                13228   \n",
       "Príncipe mestizo                                9304   \n",
       "Reliquias de la muerte                         11301   \n",
       "\n",
       "                        Número de palabras en el libro  \\\n",
       "Libro                                                    \n",
       "Piedra filosofal                                105380   \n",
       "Cámara secreta                                  116469   \n",
       "Prisionero de Azkaban                           148622   \n",
       "Cáliz de fuego                                  258030   \n",
       "Orden del fénix                                 346982   \n",
       "Príncipe mestizo                                229682   \n",
       "Reliquias de la muerte                          265834   \n",
       "\n",
       "                        Número medio de palabras por frase  \\\n",
       "Libro                                                        \n",
       "Piedra filosofal                                 20.801421   \n",
       "Cámara secreta                                   21.378304   \n",
       "Prisionero de Azkaban                            19.976075   \n",
       "Cáliz de fuego                                   21.266793   \n",
       "Orden del fénix                                  26.230950   \n",
       "Príncipe mestizo                                 24.686694   \n",
       "Reliquias de la muerte                           23.523051   \n",
       "\n",
       "                        Número de caracteres en el libro  \n",
       "Libro                                                     \n",
       "Piedra filosofal                                  474429  \n",
       "Cámara secreta                                    531708  \n",
       "Prisionero de Azkaban                             676978  \n",
       "Cáliz de fuego                                   1187250  \n",
       "Orden del fénix                                  1608763  \n",
       "Príncipe mestizo                                 1059022  \n",
       "Reliquias de la muerte                           1227024  "
      ]
     },
     "execution_count": 8,
     "metadata": {},
     "output_type": "execute_result"
    }
   ],
   "source": [
    "hp_info"
   ]
  },
  {
   "cell_type": "markdown",
   "metadata": {},
   "source": [
    "De un rápido vistazo, en el cuadro de arriba, podemos observar el volumen de cada uno de los libros de la saga. En general, los libros son más largos a medida que avanza la historia. El avance es estrictamente mónotono hasta el quinto libro, pero a partir de ahí, observamos que el sexto es más corto que los dos anteriores, y a su vez, el séptimo no es el más largo, sino el seguno trás *La Orden del fénix*.\n",
    "\n",
    "Haremos a continuación un análisis un poco más particular de cada libro."
   ]
  },
  {
   "cell_type": "markdown",
   "metadata": {},
   "source": [
    "### Harry Potter y la piedra filosofal."
   ]
  },
  {
   "cell_type": "markdown",
   "metadata": {},
   "source": [
    "Se observa que en el primer libro el tipo de palabra que más aparece es el sustantivo (NNP: sustantivo proppio, NN: sustantiv común), seguido de preposiciones (IN), verbos en pasado (VBD) y pronombres personales (PRP). Lo de los verbos en pasado puede parecer curioso, pero es un indicador de que la novela está escrita en prosa.\n",
    "\n",
    "**Nota**: Puede resultar curioso que el tipo de palabra que más aparezca sea sustantivo propio, por encima incluso de determinates. Esto puede ser causado por la interpretación como nombre propio de toda palabra que empiece en mayúsculas. Además, expresiones con comillas o genitivo sajón, también estarán fallando, por ejemplo: \"he's\", alterará el contador de verbos y el de pronombres. En general, los signos de puntuación crean confusión en este conteo y se podría afinar, pero nos sirve para hacernos una idea y tener una primera aproximación sobre el tipo de texto."
   ]
  },
  {
   "cell_type": "code",
   "execution_count": 9,
   "metadata": {},
   "outputs": [
    {
     "data": {
      "text/html": [
       "<div>\n",
       "<style scoped>\n",
       "    .dataframe tbody tr th:only-of-type {\n",
       "        vertical-align: middle;\n",
       "    }\n",
       "\n",
       "    .dataframe tbody tr th {\n",
       "        vertical-align: top;\n",
       "    }\n",
       "\n",
       "    .dataframe thead th {\n",
       "        text-align: right;\n",
       "    }\n",
       "</style>\n",
       "<table border=\"1\" class=\"dataframe\">\n",
       "  <thead>\n",
       "    <tr style=\"text-align: right;\">\n",
       "      <th>Tipo de palabra</th>\n",
       "      <th>NNP</th>\n",
       "      <th>NN</th>\n",
       "      <th>IN</th>\n",
       "      <th>VBD</th>\n",
       "      <th>PRP</th>\n",
       "      <th>DT</th>\n",
       "      <th>JJ</th>\n",
       "      <th>.</th>\n",
       "      <th>,</th>\n",
       "      <th>RB</th>\n",
       "      <th>...</th>\n",
       "      <th>''</th>\n",
       "      <th>FW</th>\n",
       "      <th>NNPS</th>\n",
       "      <th>)</th>\n",
       "      <th>(</th>\n",
       "      <th>RBS</th>\n",
       "      <th>``</th>\n",
       "      <th>$</th>\n",
       "      <th>WP$</th>\n",
       "      <th>POS</th>\n",
       "    </tr>\n",
       "  </thead>\n",
       "  <tbody>\n",
       "    <tr>\n",
       "      <td>Total</td>\n",
       "      <td>13504</td>\n",
       "      <td>12593</td>\n",
       "      <td>8333</td>\n",
       "      <td>8087</td>\n",
       "      <td>7330</td>\n",
       "      <td>7073</td>\n",
       "      <td>6325</td>\n",
       "      <td>5855</td>\n",
       "      <td>5658</td>\n",
       "      <td>4808</td>\n",
       "      <td>...</td>\n",
       "      <td>66</td>\n",
       "      <td>64</td>\n",
       "      <td>47</td>\n",
       "      <td>31</td>\n",
       "      <td>30</td>\n",
       "      <td>21</td>\n",
       "      <td>9</td>\n",
       "      <td>5</td>\n",
       "      <td>3</td>\n",
       "      <td>1</td>\n",
       "    </tr>\n",
       "  </tbody>\n",
       "</table>\n",
       "<p>1 rows × 42 columns</p>\n",
       "</div>"
      ],
      "text/plain": [
       "Tipo de palabra    NNP     NN    IN   VBD   PRP    DT    JJ     .     ,    RB  \\\n",
       "Total            13504  12593  8333  8087  7330  7073  6325  5855  5658  4808   \n",
       "\n",
       "Tipo de palabra  ...  ''  FW  NNPS   )   (  RBS  ``  $  WP$  POS  \n",
       "Total            ...  66  64    47  31  30   21   9  5    3    1  \n",
       "\n",
       "[1 rows x 42 columns]"
      ]
     },
     "execution_count": 9,
     "metadata": {},
     "output_type": "execute_result"
    }
   ],
   "source": [
    "info1_2"
   ]
  },
  {
   "cell_type": "markdown",
   "metadata": {},
   "source": [
    "En la distribución de los tres protagonistas, observamos que, como era de esperar, Harry aparece bastante más que sus dos amigos. Además, vemos que en este primer libro Ron tiene un poco más protagonismo que Hermione.\n",
    "\n",
    "También, cabe destacar, como se observa que Harry aparece desde el principio del libro. Ron y Hermione aparecen poco antes de la mitad, ya que los conoce a los dos prácticamente a la vez, en el *Expreso de Hogwarts*."
   ]
  },
  {
   "cell_type": "code",
   "execution_count": 30,
   "metadata": {},
   "outputs": [
    {
     "data": {
      "image/png": "[encoded data removed]",
      "text/plain": [
       "<Figure size 432x288 with 1 Axes>"
      ]
     },
     "metadata": {
      "needs_background": "light"
     },
     "output_type": "display_data"
    }
   ],
   "source": [
    "harry_potter_text1.dispersion_plot(protagonistas)"
   ]
  },
  {
   "cell_type": "markdown",
   "metadata": {},
   "source": [
    "En cuanto a los secundarios, destaca la presencia de Hagrid en este libro. Junto con la profesora McGonagall y Dumbledore son los primeros personajes que conocemos, ya que son los encargados de llevar a Harry a casa de sus tios tras el asesinato de sus padres a manos de Voldemort (que es el otro que se menciona al principio de la historia). \n",
    "\n",
    "Por supuesto, Quirrell toma protagonismo hacia el final, ya que interviene en el desenlace del libro al intertar hacerse poseedor de la piedra filosofal."
   ]
  },
  {
   "cell_type": "code",
   "execution_count": 11,
   "metadata": {},
   "outputs": [
    {
     "data": {
      "image/png": "[encoded data removed]",
      "text/plain": [
       "<Figure size 432x288 with 1 Axes>"
      ]
     },
     "metadata": {
      "needs_background": "light"
     },
     "output_type": "display_data"
    }
   ],
   "source": [
    "harry_potter_text1.dispersion_plot(secundarios1)"
   ]
  },
  {
   "cell_type": "markdown",
   "metadata": {},
   "source": [
    "### Harry Potter y la cámara secreta."
   ]
  },
  {
   "cell_type": "markdown",
   "metadata": {},
   "source": [
    "En general las estructura gramatical se mantiene en este libro, solo que los pronombres pierden un puesto en favor de los determinantes. Continúan destacando los verbos en pasado."
   ]
  },
  {
   "cell_type": "code",
   "execution_count": 12,
   "metadata": {},
   "outputs": [
    {
     "data": {
      "text/html": [
       "<div>\n",
       "<style scoped>\n",
       "    .dataframe tbody tr th:only-of-type {\n",
       "        vertical-align: middle;\n",
       "    }\n",
       "\n",
       "    .dataframe tbody tr th {\n",
       "        vertical-align: top;\n",
       "    }\n",
       "\n",
       "    .dataframe thead th {\n",
       "        text-align: right;\n",
       "    }\n",
       "</style>\n",
       "<table border=\"1\" class=\"dataframe\">\n",
       "  <thead>\n",
       "    <tr style=\"text-align: right;\">\n",
       "      <th>Tipo de palabra</th>\n",
       "      <th>NNP</th>\n",
       "      <th>NN</th>\n",
       "      <th>IN</th>\n",
       "      <th>VBD</th>\n",
       "      <th>DT</th>\n",
       "      <th>PRP</th>\n",
       "      <th>,</th>\n",
       "      <th>JJ</th>\n",
       "      <th>.</th>\n",
       "      <th>RB</th>\n",
       "      <th>...</th>\n",
       "      <th>''</th>\n",
       "      <th>FW</th>\n",
       "      <th>NNPS</th>\n",
       "      <th>)</th>\n",
       "      <th>(</th>\n",
       "      <th>RBS</th>\n",
       "      <th>WP$</th>\n",
       "      <th>$</th>\n",
       "      <th>``</th>\n",
       "      <th>POS</th>\n",
       "    </tr>\n",
       "  </thead>\n",
       "  <tbody>\n",
       "    <tr>\n",
       "      <td>Total</td>\n",
       "      <td>15893</td>\n",
       "      <td>13768</td>\n",
       "      <td>9733</td>\n",
       "      <td>9016</td>\n",
       "      <td>7676</td>\n",
       "      <td>7252</td>\n",
       "      <td>6686</td>\n",
       "      <td>6618</td>\n",
       "      <td>6288</td>\n",
       "      <td>5320</td>\n",
       "      <td>...</td>\n",
       "      <td>80</td>\n",
       "      <td>52</td>\n",
       "      <td>40</td>\n",
       "      <td>36</td>\n",
       "      <td>32</td>\n",
       "      <td>25</td>\n",
       "      <td>13</td>\n",
       "      <td>10</td>\n",
       "      <td>8</td>\n",
       "      <td>4</td>\n",
       "    </tr>\n",
       "  </tbody>\n",
       "</table>\n",
       "<p>1 rows × 42 columns</p>\n",
       "</div>"
      ],
      "text/plain": [
       "Tipo de palabra    NNP     NN    IN   VBD    DT   PRP     ,    JJ     .    RB  \\\n",
       "Total            15893  13768  9733  9016  7676  7252  6686  6618  6288  5320   \n",
       "\n",
       "Tipo de palabra  ...  ''  FW  NNPS   )   (  RBS  WP$   $  ``  POS  \n",
       "Total            ...  80  52    40  36  32   25   13  10   8    4  \n",
       "\n",
       "[1 rows x 42 columns]"
      ]
     },
     "execution_count": 12,
     "metadata": {},
     "output_type": "execute_result"
    }
   ],
   "source": [
    "info2_2"
   ]
  },
  {
   "cell_type": "markdown",
   "metadata": {},
   "source": [
    "De nuevo, podemos ver el mismo ranking. Harry, obviamente, es el más mencionado, Ron es el segundo y Hermione la tercera. Aunque, ambos ganan protagonismo, y ahora sí aparecen desde el principio.\n",
    "\n",
    "Tiene sentido, puesto que, por una parte Ron rescata a Harry en coche de casa de sus tios, y por otro lado, Hermione se pasa el final del libro petrificada, luego participa en menos aventuras."
   ]
  },
  {
   "cell_type": "code",
   "execution_count": 13,
   "metadata": {},
   "outputs": [
    {
     "data": {
      "image/png": "[encoded data removed]",
      "text/plain": [
       "<Figure size 432x288 with 1 Axes>"
      ]
     },
     "metadata": {
      "needs_background": "light"
     },
     "output_type": "display_data"
    }
   ],
   "source": [
    "harry_potter_text2.dispersion_plot(protagonistas)"
   ]
  },
  {
   "cell_type": "markdown",
   "metadata": {},
   "source": [
    "En cuanto a los personajes secundarios, destaca en primer lugar lo poco que aparece Voldemort en este tomo. Pero tiene sentido, ya que en muchas ocasiones se le nombra como Tom Riddle o *el heredero*.\n",
    "\n",
    "Además, vemos que entre los profresores destaca Gilderoy Lockhart, llevando a cabo su papel de impostor. \n",
    "\n",
    "Entre los otros alumnos podemos ver que Draco Malfoy aparece más que otros como Neville, debido a que en gran parte del libro se piensa que es él quien puede abrir la cámara.\n",
    "\n",
    "Es importante también, destacar la aparición en tres partes muy marcadas del carismático Dobby, quien visita a Harry al principio, le ayuda en mitad del libro y al final se gana su amistad.\n",
    "\n",
    "Por último recalcar la importancia del basilisco en la batalla final. También destaca al final Dumbledore, esto será una constante en todos los libros debido a aquellas entrañables charlas que siempre tenía con Harry al final de cada curso."
   ]
  },
  {
   "cell_type": "code",
   "execution_count": 14,
   "metadata": {},
   "outputs": [
    {
     "data": {
      "image/png": "[encoded data removed]",
      "text/plain": [
       "<Figure size 432x288 with 1 Axes>"
      ]
     },
     "metadata": {
      "needs_background": "light"
     },
     "output_type": "display_data"
    }
   ],
   "source": [
    "harry_potter_text2.dispersion_plot(secundarios2)"
   ]
  },
  {
   "cell_type": "markdown",
   "metadata": {},
   "source": [
    "### Harry Potter y el prisionero de Azkaban."
   ]
  },
  {
   "cell_type": "markdown",
   "metadata": {},
   "source": [
    "Sin cambios en el análisis gramatical como era de esperar."
   ]
  },
  {
   "cell_type": "code",
   "execution_count": 15,
   "metadata": {},
   "outputs": [
    {
     "data": {
      "text/html": [
       "<div>\n",
       "<style scoped>\n",
       "    .dataframe tbody tr th:only-of-type {\n",
       "        vertical-align: middle;\n",
       "    }\n",
       "\n",
       "    .dataframe tbody tr th {\n",
       "        vertical-align: top;\n",
       "    }\n",
       "\n",
       "    .dataframe thead th {\n",
       "        text-align: right;\n",
       "    }\n",
       "</style>\n",
       "<table border=\"1\" class=\"dataframe\">\n",
       "  <thead>\n",
       "    <tr style=\"text-align: right;\">\n",
       "      <th>Tipo de palabra</th>\n",
       "      <th>NNP</th>\n",
       "      <th>NN</th>\n",
       "      <th>IN</th>\n",
       "      <th>VBD</th>\n",
       "      <th>PRP</th>\n",
       "      <th>DT</th>\n",
       "      <th>.</th>\n",
       "      <th>,</th>\n",
       "      <th>JJ</th>\n",
       "      <th>RB</th>\n",
       "      <th>...</th>\n",
       "      <th>UH</th>\n",
       "      <th>FW</th>\n",
       "      <th>NNPS</th>\n",
       "      <th>)</th>\n",
       "      <th>(</th>\n",
       "      <th>RBS</th>\n",
       "      <th>WP$</th>\n",
       "      <th>``</th>\n",
       "      <th>$</th>\n",
       "      <th>POS</th>\n",
       "    </tr>\n",
       "  </thead>\n",
       "  <tbody>\n",
       "    <tr>\n",
       "      <td>Total</td>\n",
       "      <td>20830</td>\n",
       "      <td>17347</td>\n",
       "      <td>12296</td>\n",
       "      <td>11553</td>\n",
       "      <td>9500</td>\n",
       "      <td>9472</td>\n",
       "      <td>8803</td>\n",
       "      <td>8344</td>\n",
       "      <td>8106</td>\n",
       "      <td>6920</td>\n",
       "      <td>...</td>\n",
       "      <td>108</td>\n",
       "      <td>99</td>\n",
       "      <td>61</td>\n",
       "      <td>57</td>\n",
       "      <td>39</td>\n",
       "      <td>35</td>\n",
       "      <td>19</td>\n",
       "      <td>9</td>\n",
       "      <td>7</td>\n",
       "      <td>6</td>\n",
       "    </tr>\n",
       "  </tbody>\n",
       "</table>\n",
       "<p>1 rows × 42 columns</p>\n",
       "</div>"
      ],
      "text/plain": [
       "Tipo de palabra    NNP     NN     IN    VBD   PRP    DT     .     ,    JJ  \\\n",
       "Total            20830  17347  12296  11553  9500  9472  8803  8344  8106   \n",
       "\n",
       "Tipo de palabra    RB  ...   UH  FW  NNPS   )   (  RBS  WP$  ``  $  POS  \n",
       "Total            6920  ...  108  99    61  57  39   35   19   9  7    6  \n",
       "\n",
       "[1 rows x 42 columns]"
      ]
     },
     "execution_count": 15,
     "metadata": {},
     "output_type": "execute_result"
    }
   ],
   "source": [
    "info3_2"
   ]
  },
  {
   "cell_type": "markdown",
   "metadata": {},
   "source": [
    "Vemos que en esta entrega cabe destacar que, se equiparan las apariciones de Ron y Hermione, tomándo esta última más protagonismo con respecto a los anteriores libros. Además se observa que Hermione toma protagonismo especialmente hacia el final, lo cual encaja a la perfección, ya que es cuando tiene lugar la trama del giratiempos."
   ]
  },
  {
   "cell_type": "code",
   "execution_count": 16,
   "metadata": {},
   "outputs": [
    {
     "data": {
      "image/png": "[encoded data removed]",
      "text/plain": [
       "<Figure size 432x288 with 1 Axes>"
      ]
     },
     "metadata": {
      "needs_background": "light"
     },
     "output_type": "display_data"
    }
   ],
   "source": [
    "harry_potter_text3.dispersion_plot(protagonistas)"
   ]
  },
  {
   "cell_type": "markdown",
   "metadata": {},
   "source": [
    "En cuanto a los secundarios, destaca la aparición de Sirius. En espcial en el final de la historia, Sirius Black, Peter Pettigrew y Remus Lupin toman protagonismo por su aventura en la casa de los gritos.\n",
    "\n",
    "Vuelve a aparecer, aunque no demasiado el nombre de Voldemort."
   ]
  },
  {
   "cell_type": "code",
   "execution_count": 17,
   "metadata": {},
   "outputs": [
    {
     "data": {
      "image/png": "[encoded data removed]",
      "text/plain": [
       "<Figure size 432x288 with 1 Axes>"
      ]
     },
     "metadata": {
      "needs_background": "light"
     },
     "output_type": "display_data"
    }
   ],
   "source": [
    "harry_potter_text3.dispersion_plot(secundarios3)"
   ]
  },
  {
   "cell_type": "markdown",
   "metadata": {},
   "source": [
    "### Harry Potter y el cáliz de fuego."
   ]
  },
  {
   "cell_type": "markdown",
   "metadata": {},
   "source": [
    "Sin cambios, como era de esperar, en la estructura gramatical."
   ]
  },
  {
   "cell_type": "code",
   "execution_count": 18,
   "metadata": {},
   "outputs": [
    {
     "data": {
      "text/html": [
       "<div>\n",
       "<style scoped>\n",
       "    .dataframe tbody tr th:only-of-type {\n",
       "        vertical-align: middle;\n",
       "    }\n",
       "\n",
       "    .dataframe tbody tr th {\n",
       "        vertical-align: top;\n",
       "    }\n",
       "\n",
       "    .dataframe thead th {\n",
       "        text-align: right;\n",
       "    }\n",
       "</style>\n",
       "<table border=\"1\" class=\"dataframe\">\n",
       "  <thead>\n",
       "    <tr style=\"text-align: right;\">\n",
       "      <th>Tipo de palabra</th>\n",
       "      <th>NNP</th>\n",
       "      <th>NN</th>\n",
       "      <th>IN</th>\n",
       "      <th>VBD</th>\n",
       "      <th>DT</th>\n",
       "      <th>PRP</th>\n",
       "      <th>,</th>\n",
       "      <th>.</th>\n",
       "      <th>JJ</th>\n",
       "      <th>RB</th>\n",
       "      <th>...</th>\n",
       "      <th>PDT</th>\n",
       "      <th>FW</th>\n",
       "      <th>NNPS</th>\n",
       "      <th>)</th>\n",
       "      <th>(</th>\n",
       "      <th>RBS</th>\n",
       "      <th>WP$</th>\n",
       "      <th>$</th>\n",
       "      <th>``</th>\n",
       "      <th>POS</th>\n",
       "    </tr>\n",
       "  </thead>\n",
       "  <tbody>\n",
       "    <tr>\n",
       "      <td>Total</td>\n",
       "      <td>33060</td>\n",
       "      <td>29050</td>\n",
       "      <td>22481</td>\n",
       "      <td>19654</td>\n",
       "      <td>16974</td>\n",
       "      <td>16808</td>\n",
       "      <td>15030</td>\n",
       "      <td>14265</td>\n",
       "      <td>13858</td>\n",
       "      <td>12635</td>\n",
       "      <td>...</td>\n",
       "      <td>212</td>\n",
       "      <td>142</td>\n",
       "      <td>94</td>\n",
       "      <td>81</td>\n",
       "      <td>75</td>\n",
       "      <td>48</td>\n",
       "      <td>38</td>\n",
       "      <td>26</td>\n",
       "      <td>10</td>\n",
       "      <td>2</td>\n",
       "    </tr>\n",
       "  </tbody>\n",
       "</table>\n",
       "<p>1 rows × 42 columns</p>\n",
       "</div>"
      ],
      "text/plain": [
       "Tipo de palabra    NNP     NN     IN    VBD     DT    PRP      ,      .  \\\n",
       "Total            33060  29050  22481  19654  16974  16808  15030  14265   \n",
       "\n",
       "Tipo de palabra     JJ     RB  ...  PDT   FW  NNPS   )   (  RBS  WP$   $  ``  \\\n",
       "Total            13858  12635  ...  212  142    94  81  75   48   38  26  10   \n",
       "\n",
       "Tipo de palabra  POS  \n",
       "Total              2  \n",
       "\n",
       "[1 rows x 42 columns]"
      ]
     },
     "execution_count": 18,
     "metadata": {},
     "output_type": "execute_result"
    }
   ],
   "source": [
    "info4_2"
   ]
  },
  {
   "cell_type": "markdown",
   "metadata": {},
   "source": [
    "Hermione y Ron tienen de nuevo protagonismo a partes iguales. Resalta ese hueco al final en el que ninguno aparece, pero tiene sentido debido a que se corresponde con la parte de la historia en la que Harry se sumerge en la última prueba, el laberinto, que a su vez le lleva al cementerio."
   ]
  },
  {
   "cell_type": "code",
   "execution_count": 19,
   "metadata": {},
   "outputs": [
    {
     "data": {
      "image/png": "[encoded data removed]",
      "text/plain": [
       "<Figure size 432x288 with 1 Axes>"
      ]
     },
     "metadata": {
      "needs_background": "light"
     },
     "output_type": "display_data"
    }
   ],
   "source": [
    "harry_potter_text4.dispersion_plot(protagonistas)"
   ]
  },
  {
   "cell_type": "markdown",
   "metadata": {},
   "source": [
    "En esta entrega Voldemort toma fuerza, sobre todo al final cuando vuelve a aparecer en el cementerio con la ayuda de su fiel Colagusano.\n",
    "\n",
    "También podemos observar como, en este libro, los compañeros como Draco o Neville ceden protagonismo a los campeones del torneo (Viktor Krum, Fleur Delacour y Cedric Diggory).\n",
    "\n",
    "En cuanto a profesores podemos destacar en este tomo a *ojo loco* Moody, y su trama con Barty Crouch."
   ]
  },
  {
   "cell_type": "code",
   "execution_count": 20,
   "metadata": {},
   "outputs": [
    {
     "data": {
      "image/png": "[encoded data removed]",
      "text/plain": [
       "<Figure size 432x288 with 1 Axes>"
      ]
     },
     "metadata": {
      "needs_background": "light"
     },
     "output_type": "display_data"
    }
   ],
   "source": [
    "harry_potter_text4.dispersion_plot(secundarios4)"
   ]
  },
  {
   "cell_type": "markdown",
   "metadata": {},
   "source": [
    "### Harry Potter y la orden del fénix."
   ]
  },
  {
   "cell_type": "markdown",
   "metadata": {},
   "source": [
    "Ninguna sorpresa en la estructura gramatical."
   ]
  },
  {
   "cell_type": "code",
   "execution_count": 21,
   "metadata": {},
   "outputs": [
    {
     "data": {
      "text/html": [
       "<div>\n",
       "<style scoped>\n",
       "    .dataframe tbody tr th:only-of-type {\n",
       "        vertical-align: middle;\n",
       "    }\n",
       "\n",
       "    .dataframe tbody tr th {\n",
       "        vertical-align: top;\n",
       "    }\n",
       "\n",
       "    .dataframe thead th {\n",
       "        text-align: right;\n",
       "    }\n",
       "</style>\n",
       "<table border=\"1\" class=\"dataframe\">\n",
       "  <thead>\n",
       "    <tr style=\"text-align: right;\">\n",
       "      <th>Tipo de palabra</th>\n",
       "      <th>NNP</th>\n",
       "      <th>NN</th>\n",
       "      <th>IN</th>\n",
       "      <th>VBD</th>\n",
       "      <th>PRP</th>\n",
       "      <th>DT</th>\n",
       "      <th>,</th>\n",
       "      <th>JJ</th>\n",
       "      <th>RB</th>\n",
       "      <th>.</th>\n",
       "      <th>...</th>\n",
       "      <th>FW</th>\n",
       "      <th>NNPS</th>\n",
       "      <th>)</th>\n",
       "      <th>(</th>\n",
       "      <th>WP$</th>\n",
       "      <th>RBS</th>\n",
       "      <th>$</th>\n",
       "      <th>``</th>\n",
       "      <th>POS</th>\n",
       "      <th>SYM</th>\n",
       "    </tr>\n",
       "  </thead>\n",
       "  <tbody>\n",
       "    <tr>\n",
       "      <td>Total</td>\n",
       "      <td>42984</td>\n",
       "      <td>40103</td>\n",
       "      <td>30562</td>\n",
       "      <td>26215</td>\n",
       "      <td>23330</td>\n",
       "      <td>23101</td>\n",
       "      <td>19985</td>\n",
       "      <td>19121</td>\n",
       "      <td>18296</td>\n",
       "      <td>16057</td>\n",
       "      <td>...</td>\n",
       "      <td>238</td>\n",
       "      <td>93</td>\n",
       "      <td>81</td>\n",
       "      <td>72</td>\n",
       "      <td>55</td>\n",
       "      <td>50</td>\n",
       "      <td>48</td>\n",
       "      <td>24</td>\n",
       "      <td>7</td>\n",
       "      <td>1</td>\n",
       "    </tr>\n",
       "  </tbody>\n",
       "</table>\n",
       "<p>1 rows × 43 columns</p>\n",
       "</div>"
      ],
      "text/plain": [
       "Tipo de palabra    NNP     NN     IN    VBD    PRP     DT      ,     JJ  \\\n",
       "Total            42984  40103  30562  26215  23330  23101  19985  19121   \n",
       "\n",
       "Tipo de palabra     RB      .  ...   FW  NNPS   )   (  WP$  RBS   $  ``  POS  \\\n",
       "Total            18296  16057  ...  238    93  81  72   55   50  48  24    7   \n",
       "\n",
       "Tipo de palabra  SYM  \n",
       "Total              1  \n",
       "\n",
       "[1 rows x 43 columns]"
      ]
     },
     "execution_count": 21,
     "metadata": {},
     "output_type": "execute_result"
    }
   ],
   "source": [
    "info5_2"
   ]
  },
  {
   "cell_type": "markdown",
   "metadata": {},
   "source": [
    "Como venía siendo tónica, Ron y Hermione tienen protagonismo equitativo. Además, en esta entrega ambos tienen una aparición continuada de principio a fin."
   ]
  },
  {
   "cell_type": "code",
   "execution_count": 22,
   "metadata": {},
   "outputs": [
    {
     "data": {
      "image/png": "[encoded data removed]",
      "text/plain": [
       "<Figure size 432x288 with 1 Axes>"
      ]
     },
     "metadata": {
      "needs_background": "light"
     },
     "output_type": "display_data"
    }
   ],
   "source": [
    "harry_potter_text5.dispersion_plot(protagonistas)"
   ]
  },
  {
   "cell_type": "markdown",
   "metadata": {},
   "source": [
    "Voldemort recupera fuerza en esta entrega, ya que se va alcanzando el final de la saga. Destaca especialmente Dumbledore como promotor de la orden.\n",
    "\n",
    "Vuelve a tener presencia Sirius, que no tuvo demasiada en el cuarto libro, así como algunos mortífagos como Bellatrix.\n",
    "\n",
    "Como proferosa destacada en esta entrega destaca Dolores Umdridge, que sin duda trajo de cabeza a los protagonistas y a los lectores durante todo el libro.\n",
    "\n",
    "Por último remarcar la aparición del ministro de magia Cornelius Fudge como figura importante. También la de Luna Lovegood como amiga de Harry e integrante de la orden."
   ]
  },
  {
   "cell_type": "code",
   "execution_count": 23,
   "metadata": {},
   "outputs": [
    {
     "data": {
      "image/png": "[encoded data removed]",
      "text/plain": [
       "<Figure size 432x288 with 1 Axes>"
      ]
     },
     "metadata": {
      "needs_background": "light"
     },
     "output_type": "display_data"
    }
   ],
   "source": [
    "harry_potter_text5.dispersion_plot(secundarios5)"
   ]
  },
  {
   "cell_type": "markdown",
   "metadata": {},
   "source": [
    "### Harry Potter y el príncipe mestizo."
   ]
  },
  {
   "cell_type": "markdown",
   "metadata": {},
   "source": [
    "Sin sorpresas gramaticales."
   ]
  },
  {
   "cell_type": "code",
   "execution_count": 24,
   "metadata": {},
   "outputs": [
    {
     "data": {
      "text/html": [
       "<div>\n",
       "<style scoped>\n",
       "    .dataframe tbody tr th:only-of-type {\n",
       "        vertical-align: middle;\n",
       "    }\n",
       "\n",
       "    .dataframe tbody tr th {\n",
       "        vertical-align: top;\n",
       "    }\n",
       "\n",
       "    .dataframe thead th {\n",
       "        text-align: right;\n",
       "    }\n",
       "</style>\n",
       "<table border=\"1\" class=\"dataframe\">\n",
       "  <thead>\n",
       "    <tr style=\"text-align: right;\">\n",
       "      <th>Tipo de palabra</th>\n",
       "      <th>NNP</th>\n",
       "      <th>NN</th>\n",
       "      <th>IN</th>\n",
       "      <th>VBD</th>\n",
       "      <th>PRP</th>\n",
       "      <th>DT</th>\n",
       "      <th>,</th>\n",
       "      <th>JJ</th>\n",
       "      <th>RB</th>\n",
       "      <th>.</th>\n",
       "      <th>...</th>\n",
       "      <th>PDT</th>\n",
       "      <th>FW</th>\n",
       "      <th>RBS</th>\n",
       "      <th>NNPS</th>\n",
       "      <th>)</th>\n",
       "      <th>(</th>\n",
       "      <th>WP$</th>\n",
       "      <th>$</th>\n",
       "      <th>``</th>\n",
       "      <th>POS</th>\n",
       "    </tr>\n",
       "  </thead>\n",
       "  <tbody>\n",
       "    <tr>\n",
       "      <td>Total</td>\n",
       "      <td>30261</td>\n",
       "      <td>25472</td>\n",
       "      <td>19131</td>\n",
       "      <td>16974</td>\n",
       "      <td>15785</td>\n",
       "      <td>14486</td>\n",
       "      <td>14248</td>\n",
       "      <td>13169</td>\n",
       "      <td>11676</td>\n",
       "      <td>11177</td>\n",
       "      <td>...</td>\n",
       "      <td>214</td>\n",
       "      <td>151</td>\n",
       "      <td>81</td>\n",
       "      <td>79</td>\n",
       "      <td>57</td>\n",
       "      <td>55</td>\n",
       "      <td>28</td>\n",
       "      <td>28</td>\n",
       "      <td>28</td>\n",
       "      <td>9</td>\n",
       "    </tr>\n",
       "  </tbody>\n",
       "</table>\n",
       "<p>1 rows × 42 columns</p>\n",
       "</div>"
      ],
      "text/plain": [
       "Tipo de palabra    NNP     NN     IN    VBD    PRP     DT      ,     JJ  \\\n",
       "Total            30261  25472  19131  16974  15785  14486  14248  13169   \n",
       "\n",
       "Tipo de palabra     RB      .  ...  PDT   FW  RBS  NNPS   )   (  WP$   $  ``  \\\n",
       "Total            11676  11177  ...  214  151   81    79  57  55   28  28  28   \n",
       "\n",
       "Tipo de palabra  POS  \n",
       "Total              9  \n",
       "\n",
       "[1 rows x 42 columns]"
      ]
     },
     "execution_count": 24,
     "metadata": {},
     "output_type": "execute_result"
    }
   ],
   "source": [
    "info6_2"
   ]
  },
  {
   "cell_type": "markdown",
   "metadata": {},
   "source": [
    "Parece interesante que las partes de la historia en las que no aparece Ron, no aparece Hermione, y viceversa. Es decir, tienen parones bastante marcados. Tiene lógica y coincide con las aventuras de Harry y Dumbledore en solitario."
   ]
  },
  {
   "cell_type": "code",
   "execution_count": 25,
   "metadata": {},
   "outputs": [
    {
     "data": {
      "image/png": "[encoded data removed]",
      "text/plain": [
       "<Figure size 432x288 with 1 Axes>"
      ]
     },
     "metadata": {
      "needs_background": "light"
     },
     "output_type": "display_data"
    }
   ],
   "source": [
    "harry_potter_text6.dispersion_plot(protagonistas)"
   ]
  },
  {
   "cell_type": "markdown",
   "metadata": {},
   "source": [
    "Destaca el protagonismo que toma Dumbledore en este libro, de hecho es el tomo en el que resulta ser más importante. Sobre todo al final por ese acontecimiento que todo buen fan conoce.\n",
    "\n",
    "Entre los profesores destacan Snape (va tomando protagonismo en el final de la saga) y Slughorn, el nuevo profesor de pociones.\n",
    "\n",
    "Se observa que los compañeros de Harry (Draco, Neville, Luna...) no tienen demasiadas apariciones en esta entrega."
   ]
  },
  {
   "cell_type": "code",
   "execution_count": 26,
   "metadata": {},
   "outputs": [
    {
     "data": {
      "image/png": "[encoded data removed]",
      "text/plain": [
       "<Figure size 432x288 with 1 Axes>"
      ]
     },
     "metadata": {
      "needs_background": "light"
     },
     "output_type": "display_data"
    }
   ],
   "source": [
    "harry_potter_text6.dispersion_plot(secundarios6)"
   ]
  },
  {
   "cell_type": "markdown",
   "metadata": {},
   "source": [
    "### Harry Potter y las reliquias de la muerte."
   ]
  },
  {
   "cell_type": "markdown",
   "metadata": {},
   "source": [
    "Todo en orden, como era de esperar, la estructura se mantiene constante a lo largo de la saga."
   ]
  },
  {
   "cell_type": "code",
   "execution_count": 27,
   "metadata": {},
   "outputs": [
    {
     "data": {
      "text/html": [
       "<div>\n",
       "<style scoped>\n",
       "    .dataframe tbody tr th:only-of-type {\n",
       "        vertical-align: middle;\n",
       "    }\n",
       "\n",
       "    .dataframe tbody tr th {\n",
       "        vertical-align: top;\n",
       "    }\n",
       "\n",
       "    .dataframe thead th {\n",
       "        text-align: right;\n",
       "    }\n",
       "</style>\n",
       "<table border=\"1\" class=\"dataframe\">\n",
       "  <thead>\n",
       "    <tr style=\"text-align: right;\">\n",
       "      <th>Tipo de palabra</th>\n",
       "      <th>NNP</th>\n",
       "      <th>NN</th>\n",
       "      <th>IN</th>\n",
       "      <th>VBD</th>\n",
       "      <th>PRP</th>\n",
       "      <th>DT</th>\n",
       "      <th>,</th>\n",
       "      <th>JJ</th>\n",
       "      <th>.</th>\n",
       "      <th>RB</th>\n",
       "      <th>...</th>\n",
       "      <th>PDT</th>\n",
       "      <th>FW</th>\n",
       "      <th>NNPS</th>\n",
       "      <th>RBS</th>\n",
       "      <th>WP$</th>\n",
       "      <th>)</th>\n",
       "      <th>(</th>\n",
       "      <th>``</th>\n",
       "      <th>$</th>\n",
       "      <th>POS</th>\n",
       "    </tr>\n",
       "  </thead>\n",
       "  <tbody>\n",
       "    <tr>\n",
       "      <td>Total</td>\n",
       "      <td>32341</td>\n",
       "      <td>30137</td>\n",
       "      <td>22431</td>\n",
       "      <td>20997</td>\n",
       "      <td>18890</td>\n",
       "      <td>18037</td>\n",
       "      <td>16149</td>\n",
       "      <td>14645</td>\n",
       "      <td>13641</td>\n",
       "      <td>11979</td>\n",
       "      <td>...</td>\n",
       "      <td>179</td>\n",
       "      <td>148</td>\n",
       "      <td>109</td>\n",
       "      <td>60</td>\n",
       "      <td>56</td>\n",
       "      <td>36</td>\n",
       "      <td>24</td>\n",
       "      <td>22</td>\n",
       "      <td>18</td>\n",
       "      <td>7</td>\n",
       "    </tr>\n",
       "  </tbody>\n",
       "</table>\n",
       "<p>1 rows × 42 columns</p>\n",
       "</div>"
      ],
      "text/plain": [
       "Tipo de palabra    NNP     NN     IN    VBD    PRP     DT      ,     JJ  \\\n",
       "Total            32341  30137  22431  20997  18890  18037  16149  14645   \n",
       "\n",
       "Tipo de palabra      .     RB  ...  PDT   FW  NNPS  RBS  WP$   )   (  ``   $  \\\n",
       "Total            13641  11979  ...  179  148   109   60   56  36  24  22  18   \n",
       "\n",
       "Tipo de palabra  POS  \n",
       "Total              7  \n",
       "\n",
       "[1 rows x 42 columns]"
      ]
     },
     "execution_count": 27,
     "metadata": {},
     "output_type": "execute_result"
    }
   ],
   "source": [
    "info7_2"
   ]
  },
  {
   "cell_type": "markdown",
   "metadata": {},
   "source": [
    "Es importante destacar que en la última entrega, Hermione tiene más protagonismo que Ron, el mejor amigo de Harry. Salta a la vista ese hueco de Ron a mediados de la novela. Se debe a que durante un pequeño periodo de tiempo Ron Weasly, decide abandonarlos en su aventura debido a los efectos negativos de uno de los horrocruxes.\n",
    "\n",
    "Además, ambos desaparecen en partes del final dejando a Harry todo el protagonismo en su lucha contra Lord Voldemort."
   ]
  },
  {
   "cell_type": "code",
   "execution_count": 28,
   "metadata": {},
   "outputs": [
    {
     "data": {
      "image/png": "[encoded data removed]",
      "text/plain": [
       "<Figure size 432x288 with 1 Axes>"
      ]
     },
     "metadata": {
      "needs_background": "light"
     },
     "output_type": "display_data"
    }
   ],
   "source": [
    "harry_potter_text7.dispersion_plot(protagonistas)"
   ]
  },
  {
   "cell_type": "markdown",
   "metadata": {},
   "source": [
    "Voldemort es más protagonista que ningún otro libro, como era de esperar. Así como sus mortífagos, entre ellos destaca Bellatrix. \n",
    "\n",
    "Es curioso que Dumbledore sigue siendo un personaje importante, no diré más. Además, Snape tiene su momento de gloria en la saga, se puede observar esa marcada aparición hacia el final.\n",
    "\n",
    "Entre los amigos de Harry destacan Neville, por su relación con la profecía, y Ginny, por su historia de amor con Harry."
   ]
  },
  {
   "cell_type": "code",
   "execution_count": 29,
   "metadata": {},
   "outputs": [
    {
     "data": {
      "image/png": "[encoded data removed]",
      "text/plain": [
       "<Figure size 432x288 with 1 Axes>"
      ]
     },
     "metadata": {
      "needs_background": "light"
     },
     "output_type": "display_data"
    }
   ],
   "source": [
    "harry_potter_text7.dispersion_plot(secundarios7)"
   ]
  }
 ],
 "metadata": {
  "kernelspec": {
   "display_name": "Python 3",
   "language": "python",
   "name": "python3"
  },
  "language_info": {
   "codemirror_mode": {
    "name": "ipython",
    "version": 3
   },
   "file_extension": ".py",
   "mimetype": "text/x-python",
   "name": "python",
   "nbconvert_exporter": "python",
   "pygments_lexer": "ipython3",
   "version": "3.7.4"
  }
 },
 "nbformat": 4,
 "nbformat_minor": 2
}
